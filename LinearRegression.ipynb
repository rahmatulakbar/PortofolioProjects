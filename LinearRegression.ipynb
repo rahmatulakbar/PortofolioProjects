{
  "nbformat": 4,
  "nbformat_minor": 0,
  "metadata": {
    "colab": {
      "provenance": []
    },
    "kernelspec": {
      "name": "python3",
      "display_name": "Python 3"
    },
    "language_info": {
      "name": "python"
    }
  },
  "cells": [
    {
      "cell_type": "code",
      "execution_count": null,
      "metadata": {
        "id": "WhxRR_zwjSKu"
      },
      "outputs": [],
      "source": [
        "import pandas as pd\n",
        "import seaborn as sns\n",
        "import matplotlib.pyplot as plt\n",
        "from math import sqrt"
      ]
    },
    {
      "cell_type": "code",
      "source": [
        "df=pd.read_csv('/content/drive/MyDrive/data_temperatur.csv')\n",
        "df.head()"
      ],
      "metadata": {
        "id": "ASvXHASQkyoO",
        "colab": {
          "base_uri": "https://localhost:8080/",
          "height": 206
        },
        "outputId": "041a8fec-1e4e-4dd1-9bd1-f3db51f3c10d"
      },
      "execution_count": null,
      "outputs": [
        {
          "output_type": "execute_result",
          "data": {
            "text/plain": [
              "    Tanggal  Tavg  RH_avg   RR   ss  ff_x  ddd_x  ff_avg ddd_car    Tn    Tx\n",
              "0  1/1/2019  27.8    82.0  3.2  5.4   8.0  350.0     3.0      N   24.8  31.0\n",
              "1  2/1/2019  27.5    84.0  0.0  2.5   5.0  270.0     2.0      W   25.6  31.0\n",
              "2  3/1/2019  27.5    85.0  1.6  2.6   4.0   10.0     1.0      C   25.0  29.8\n",
              "3  4/1/2019  28.1    80.0  NaN  0.0   6.0   10.0     2.0      C   25.2  31.0\n",
              "4  5/1/2019  28.5    81.0  0.0  0.0   5.0  340.0     2.0      C   25.2  31.0"
            ],
            "text/html": [
              "\n",
              "  <div id=\"df-3cd62080-32a2-49ef-9e28-ff5179e8fd90\">\n",
              "    <div class=\"colab-df-container\">\n",
              "      <div>\n",
              "<style scoped>\n",
              "    .dataframe tbody tr th:only-of-type {\n",
              "        vertical-align: middle;\n",
              "    }\n",
              "\n",
              "    .dataframe tbody tr th {\n",
              "        vertical-align: top;\n",
              "    }\n",
              "\n",
              "    .dataframe thead th {\n",
              "        text-align: right;\n",
              "    }\n",
              "</style>\n",
              "<table border=\"1\" class=\"dataframe\">\n",
              "  <thead>\n",
              "    <tr style=\"text-align: right;\">\n",
              "      <th></th>\n",
              "      <th>Tanggal</th>\n",
              "      <th>Tavg</th>\n",
              "      <th>RH_avg</th>\n",
              "      <th>RR</th>\n",
              "      <th>ss</th>\n",
              "      <th>ff_x</th>\n",
              "      <th>ddd_x</th>\n",
              "      <th>ff_avg</th>\n",
              "      <th>ddd_car</th>\n",
              "      <th>Tn</th>\n",
              "      <th>Tx</th>\n",
              "    </tr>\n",
              "  </thead>\n",
              "  <tbody>\n",
              "    <tr>\n",
              "      <th>0</th>\n",
              "      <td>1/1/2019</td>\n",
              "      <td>27.8</td>\n",
              "      <td>82.0</td>\n",
              "      <td>3.2</td>\n",
              "      <td>5.4</td>\n",
              "      <td>8.0</td>\n",
              "      <td>350.0</td>\n",
              "      <td>3.0</td>\n",
              "      <td>N</td>\n",
              "      <td>24.8</td>\n",
              "      <td>31.0</td>\n",
              "    </tr>\n",
              "    <tr>\n",
              "      <th>1</th>\n",
              "      <td>2/1/2019</td>\n",
              "      <td>27.5</td>\n",
              "      <td>84.0</td>\n",
              "      <td>0.0</td>\n",
              "      <td>2.5</td>\n",
              "      <td>5.0</td>\n",
              "      <td>270.0</td>\n",
              "      <td>2.0</td>\n",
              "      <td>W</td>\n",
              "      <td>25.6</td>\n",
              "      <td>31.0</td>\n",
              "    </tr>\n",
              "    <tr>\n",
              "      <th>2</th>\n",
              "      <td>3/1/2019</td>\n",
              "      <td>27.5</td>\n",
              "      <td>85.0</td>\n",
              "      <td>1.6</td>\n",
              "      <td>2.6</td>\n",
              "      <td>4.0</td>\n",
              "      <td>10.0</td>\n",
              "      <td>1.0</td>\n",
              "      <td>C</td>\n",
              "      <td>25.0</td>\n",
              "      <td>29.8</td>\n",
              "    </tr>\n",
              "    <tr>\n",
              "      <th>3</th>\n",
              "      <td>4/1/2019</td>\n",
              "      <td>28.1</td>\n",
              "      <td>80.0</td>\n",
              "      <td>NaN</td>\n",
              "      <td>0.0</td>\n",
              "      <td>6.0</td>\n",
              "      <td>10.0</td>\n",
              "      <td>2.0</td>\n",
              "      <td>C</td>\n",
              "      <td>25.2</td>\n",
              "      <td>31.0</td>\n",
              "    </tr>\n",
              "    <tr>\n",
              "      <th>4</th>\n",
              "      <td>5/1/2019</td>\n",
              "      <td>28.5</td>\n",
              "      <td>81.0</td>\n",
              "      <td>0.0</td>\n",
              "      <td>0.0</td>\n",
              "      <td>5.0</td>\n",
              "      <td>340.0</td>\n",
              "      <td>2.0</td>\n",
              "      <td>C</td>\n",
              "      <td>25.2</td>\n",
              "      <td>31.0</td>\n",
              "    </tr>\n",
              "  </tbody>\n",
              "</table>\n",
              "</div>\n",
              "      <button class=\"colab-df-convert\" onclick=\"convertToInteractive('df-3cd62080-32a2-49ef-9e28-ff5179e8fd90')\"\n",
              "              title=\"Convert this dataframe to an interactive table.\"\n",
              "              style=\"display:none;\">\n",
              "        \n",
              "  <svg xmlns=\"http://www.w3.org/2000/svg\" height=\"24px\"viewBox=\"0 0 24 24\"\n",
              "       width=\"24px\">\n",
              "    <path d=\"M0 0h24v24H0V0z\" fill=\"none\"/>\n",
              "    <path d=\"M18.56 5.44l.94 2.06.94-2.06 2.06-.94-2.06-.94-.94-2.06-.94 2.06-2.06.94zm-11 1L8.5 8.5l.94-2.06 2.06-.94-2.06-.94L8.5 2.5l-.94 2.06-2.06.94zm10 10l.94 2.06.94-2.06 2.06-.94-2.06-.94-.94-2.06-.94 2.06-2.06.94z\"/><path d=\"M17.41 7.96l-1.37-1.37c-.4-.4-.92-.59-1.43-.59-.52 0-1.04.2-1.43.59L10.3 9.45l-7.72 7.72c-.78.78-.78 2.05 0 2.83L4 21.41c.39.39.9.59 1.41.59.51 0 1.02-.2 1.41-.59l7.78-7.78 2.81-2.81c.8-.78.8-2.07 0-2.86zM5.41 20L4 18.59l7.72-7.72 1.47 1.35L5.41 20z\"/>\n",
              "  </svg>\n",
              "      </button>\n",
              "      \n",
              "  <style>\n",
              "    .colab-df-container {\n",
              "      display:flex;\n",
              "      flex-wrap:wrap;\n",
              "      gap: 12px;\n",
              "    }\n",
              "\n",
              "    .colab-df-convert {\n",
              "      background-color: #E8F0FE;\n",
              "      border: none;\n",
              "      border-radius: 50%;\n",
              "      cursor: pointer;\n",
              "      display: none;\n",
              "      fill: #1967D2;\n",
              "      height: 32px;\n",
              "      padding: 0 0 0 0;\n",
              "      width: 32px;\n",
              "    }\n",
              "\n",
              "    .colab-df-convert:hover {\n",
              "      background-color: #E2EBFA;\n",
              "      box-shadow: 0px 1px 2px rgba(60, 64, 67, 0.3), 0px 1px 3px 1px rgba(60, 64, 67, 0.15);\n",
              "      fill: #174EA6;\n",
              "    }\n",
              "\n",
              "    [theme=dark] .colab-df-convert {\n",
              "      background-color: #3B4455;\n",
              "      fill: #D2E3FC;\n",
              "    }\n",
              "\n",
              "    [theme=dark] .colab-df-convert:hover {\n",
              "      background-color: #434B5C;\n",
              "      box-shadow: 0px 1px 3px 1px rgba(0, 0, 0, 0.15);\n",
              "      filter: drop-shadow(0px 1px 2px rgba(0, 0, 0, 0.3));\n",
              "      fill: #FFFFFF;\n",
              "    }\n",
              "  </style>\n",
              "\n",
              "      <script>\n",
              "        const buttonEl =\n",
              "          document.querySelector('#df-3cd62080-32a2-49ef-9e28-ff5179e8fd90 button.colab-df-convert');\n",
              "        buttonEl.style.display =\n",
              "          google.colab.kernel.accessAllowed ? 'block' : 'none';\n",
              "\n",
              "        async function convertToInteractive(key) {\n",
              "          const element = document.querySelector('#df-3cd62080-32a2-49ef-9e28-ff5179e8fd90');\n",
              "          const dataTable =\n",
              "            await google.colab.kernel.invokeFunction('convertToInteractive',\n",
              "                                                     [key], {});\n",
              "          if (!dataTable) return;\n",
              "\n",
              "          const docLinkHtml = 'Like what you see? Visit the ' +\n",
              "            '<a target=\"_blank\" href=https://colab.research.google.com/notebooks/data_table.ipynb>data table notebook</a>'\n",
              "            + ' to learn more about interactive tables.';\n",
              "          element.innerHTML = '';\n",
              "          dataTable['output_type'] = 'display_data';\n",
              "          await google.colab.output.renderOutput(dataTable, element);\n",
              "          const docLink = document.createElement('div');\n",
              "          docLink.innerHTML = docLinkHtml;\n",
              "          element.appendChild(docLink);\n",
              "        }\n",
              "      </script>\n",
              "    </div>\n",
              "  </div>\n",
              "  "
            ]
          },
          "metadata": {},
          "execution_count": 2
        }
      ]
    },
    {
      "cell_type": "code",
      "source": [
        "df.isna().sum()"
      ],
      "metadata": {
        "colab": {
          "base_uri": "https://localhost:8080/"
        },
        "id": "6tIQ1l5eZT-F",
        "outputId": "f2572c6d-072c-4fa8-b628-c5f842160977"
      },
      "execution_count": null,
      "outputs": [
        {
          "output_type": "execute_result",
          "data": {
            "text/plain": [
              "Tanggal     0\n",
              "Tavg       26\n",
              "RH_avg     36\n",
              "RR         42\n",
              "ss         62\n",
              "ff_x       15\n",
              "ddd_x      15\n",
              "ff_avg     15\n",
              "ddd_car    15\n",
              "Tn         20\n",
              "Tx         21\n",
              "dtype: int64"
            ]
          },
          "metadata": {},
          "execution_count": 3
        }
      ]
    },
    {
      "cell_type": "code",
      "source": [
        "df['Tavg'].fillna(df['Tavg'].mean(),inplace=True)\n",
        "df['ss'].fillna(df['ss'].mean(),inplace=True)\n",
        "df['RH_avg'].fillna(df['RH_avg'].mean(),inplace=True)\n",
        "df['RR'].fillna(df['RR'].mean(),inplace=True)\n",
        "df['ff_x'].fillna(df['ff_x'].mean(),inplace=True)\n",
        "df['ff_avg'].fillna(df['ff_avg'].mean(),inplace=True)\n",
        "df['ddd_x'].fillna(df['ddd_x'].mean(),inplace=True)\n",
        "df['ddd_car'].fillna(df['ddd_car'].mode(),inplace=True)\n",
        "df['Tn'].fillna(df['Tn'].mean(),inplace=True)\n",
        "df['Tx'].fillna(df['Tx'].mean(),inplace=True)"
      ],
      "metadata": {
        "id": "aDbA5UUsZbYI"
      },
      "execution_count": null,
      "outputs": []
    },
    {
      "cell_type": "code",
      "source": [
        "ddd_car_dummies=pd.get_dummies(df.ddd_car,prefix='d')\n",
        "df=pd.concat([df,ddd_car_dummies],axis=1)\n",
        "df.head()"
      ],
      "metadata": {
        "colab": {
          "base_uri": "https://localhost:8080/",
          "height": 206
        },
        "id": "pCLRLlRw609t",
        "outputId": "5a5bb338-6944-4929-8809-434b299ee740"
      },
      "execution_count": null,
      "outputs": [
        {
          "output_type": "execute_result",
          "data": {
            "text/plain": [
              "    Tanggal  Tavg  RH_avg         RR   ss  ff_x  ddd_x  ff_avg ddd_car    Tn  \\\n",
              "0  1/1/2019  27.8    82.0   3.200000  5.4   8.0  350.0     3.0      N   24.8   \n",
              "1  2/1/2019  27.5    84.0   0.000000  2.5   5.0  270.0     2.0      W   25.6   \n",
              "2  3/1/2019  27.5    85.0   1.600000  2.6   4.0   10.0     1.0      C   25.0   \n",
              "3  4/1/2019  28.1    80.0  81.768501  0.0   6.0   10.0     2.0      C   25.2   \n",
              "4  5/1/2019  28.5    81.0   0.000000  0.0   5.0  340.0     2.0      C   25.2   \n",
              "\n",
              "     Tx  d_C   d_E   d_N   d_NE  d_NW  d_SE  d_W   \n",
              "0  31.0     0     0     1     0     0     0     0  \n",
              "1  31.0     0     0     0     0     0     0     1  \n",
              "2  29.8     1     0     0     0     0     0     0  \n",
              "3  31.0     1     0     0     0     0     0     0  \n",
              "4  31.0     1     0     0     0     0     0     0  "
            ],
            "text/html": [
              "\n",
              "  <div id=\"df-05c9dd5f-4173-4ac8-8eeb-f6f590253936\">\n",
              "    <div class=\"colab-df-container\">\n",
              "      <div>\n",
              "<style scoped>\n",
              "    .dataframe tbody tr th:only-of-type {\n",
              "        vertical-align: middle;\n",
              "    }\n",
              "\n",
              "    .dataframe tbody tr th {\n",
              "        vertical-align: top;\n",
              "    }\n",
              "\n",
              "    .dataframe thead th {\n",
              "        text-align: right;\n",
              "    }\n",
              "</style>\n",
              "<table border=\"1\" class=\"dataframe\">\n",
              "  <thead>\n",
              "    <tr style=\"text-align: right;\">\n",
              "      <th></th>\n",
              "      <th>Tanggal</th>\n",
              "      <th>Tavg</th>\n",
              "      <th>RH_avg</th>\n",
              "      <th>RR</th>\n",
              "      <th>ss</th>\n",
              "      <th>ff_x</th>\n",
              "      <th>ddd_x</th>\n",
              "      <th>ff_avg</th>\n",
              "      <th>ddd_car</th>\n",
              "      <th>Tn</th>\n",
              "      <th>Tx</th>\n",
              "      <th>d_C</th>\n",
              "      <th>d_E</th>\n",
              "      <th>d_N</th>\n",
              "      <th>d_NE</th>\n",
              "      <th>d_NW</th>\n",
              "      <th>d_SE</th>\n",
              "      <th>d_W</th>\n",
              "    </tr>\n",
              "  </thead>\n",
              "  <tbody>\n",
              "    <tr>\n",
              "      <th>0</th>\n",
              "      <td>1/1/2019</td>\n",
              "      <td>27.8</td>\n",
              "      <td>82.0</td>\n",
              "      <td>3.200000</td>\n",
              "      <td>5.4</td>\n",
              "      <td>8.0</td>\n",
              "      <td>350.0</td>\n",
              "      <td>3.0</td>\n",
              "      <td>N</td>\n",
              "      <td>24.8</td>\n",
              "      <td>31.0</td>\n",
              "      <td>0</td>\n",
              "      <td>0</td>\n",
              "      <td>1</td>\n",
              "      <td>0</td>\n",
              "      <td>0</td>\n",
              "      <td>0</td>\n",
              "      <td>0</td>\n",
              "    </tr>\n",
              "    <tr>\n",
              "      <th>1</th>\n",
              "      <td>2/1/2019</td>\n",
              "      <td>27.5</td>\n",
              "      <td>84.0</td>\n",
              "      <td>0.000000</td>\n",
              "      <td>2.5</td>\n",
              "      <td>5.0</td>\n",
              "      <td>270.0</td>\n",
              "      <td>2.0</td>\n",
              "      <td>W</td>\n",
              "      <td>25.6</td>\n",
              "      <td>31.0</td>\n",
              "      <td>0</td>\n",
              "      <td>0</td>\n",
              "      <td>0</td>\n",
              "      <td>0</td>\n",
              "      <td>0</td>\n",
              "      <td>0</td>\n",
              "      <td>1</td>\n",
              "    </tr>\n",
              "    <tr>\n",
              "      <th>2</th>\n",
              "      <td>3/1/2019</td>\n",
              "      <td>27.5</td>\n",
              "      <td>85.0</td>\n",
              "      <td>1.600000</td>\n",
              "      <td>2.6</td>\n",
              "      <td>4.0</td>\n",
              "      <td>10.0</td>\n",
              "      <td>1.0</td>\n",
              "      <td>C</td>\n",
              "      <td>25.0</td>\n",
              "      <td>29.8</td>\n",
              "      <td>1</td>\n",
              "      <td>0</td>\n",
              "      <td>0</td>\n",
              "      <td>0</td>\n",
              "      <td>0</td>\n",
              "      <td>0</td>\n",
              "      <td>0</td>\n",
              "    </tr>\n",
              "    <tr>\n",
              "      <th>3</th>\n",
              "      <td>4/1/2019</td>\n",
              "      <td>28.1</td>\n",
              "      <td>80.0</td>\n",
              "      <td>81.768501</td>\n",
              "      <td>0.0</td>\n",
              "      <td>6.0</td>\n",
              "      <td>10.0</td>\n",
              "      <td>2.0</td>\n",
              "      <td>C</td>\n",
              "      <td>25.2</td>\n",
              "      <td>31.0</td>\n",
              "      <td>1</td>\n",
              "      <td>0</td>\n",
              "      <td>0</td>\n",
              "      <td>0</td>\n",
              "      <td>0</td>\n",
              "      <td>0</td>\n",
              "      <td>0</td>\n",
              "    </tr>\n",
              "    <tr>\n",
              "      <th>4</th>\n",
              "      <td>5/1/2019</td>\n",
              "      <td>28.5</td>\n",
              "      <td>81.0</td>\n",
              "      <td>0.000000</td>\n",
              "      <td>0.0</td>\n",
              "      <td>5.0</td>\n",
              "      <td>340.0</td>\n",
              "      <td>2.0</td>\n",
              "      <td>C</td>\n",
              "      <td>25.2</td>\n",
              "      <td>31.0</td>\n",
              "      <td>1</td>\n",
              "      <td>0</td>\n",
              "      <td>0</td>\n",
              "      <td>0</td>\n",
              "      <td>0</td>\n",
              "      <td>0</td>\n",
              "      <td>0</td>\n",
              "    </tr>\n",
              "  </tbody>\n",
              "</table>\n",
              "</div>\n",
              "      <button class=\"colab-df-convert\" onclick=\"convertToInteractive('df-05c9dd5f-4173-4ac8-8eeb-f6f590253936')\"\n",
              "              title=\"Convert this dataframe to an interactive table.\"\n",
              "              style=\"display:none;\">\n",
              "        \n",
              "  <svg xmlns=\"http://www.w3.org/2000/svg\" height=\"24px\"viewBox=\"0 0 24 24\"\n",
              "       width=\"24px\">\n",
              "    <path d=\"M0 0h24v24H0V0z\" fill=\"none\"/>\n",
              "    <path d=\"M18.56 5.44l.94 2.06.94-2.06 2.06-.94-2.06-.94-.94-2.06-.94 2.06-2.06.94zm-11 1L8.5 8.5l.94-2.06 2.06-.94-2.06-.94L8.5 2.5l-.94 2.06-2.06.94zm10 10l.94 2.06.94-2.06 2.06-.94-2.06-.94-.94-2.06-.94 2.06-2.06.94z\"/><path d=\"M17.41 7.96l-1.37-1.37c-.4-.4-.92-.59-1.43-.59-.52 0-1.04.2-1.43.59L10.3 9.45l-7.72 7.72c-.78.78-.78 2.05 0 2.83L4 21.41c.39.39.9.59 1.41.59.51 0 1.02-.2 1.41-.59l7.78-7.78 2.81-2.81c.8-.78.8-2.07 0-2.86zM5.41 20L4 18.59l7.72-7.72 1.47 1.35L5.41 20z\"/>\n",
              "  </svg>\n",
              "      </button>\n",
              "      \n",
              "  <style>\n",
              "    .colab-df-container {\n",
              "      display:flex;\n",
              "      flex-wrap:wrap;\n",
              "      gap: 12px;\n",
              "    }\n",
              "\n",
              "    .colab-df-convert {\n",
              "      background-color: #E8F0FE;\n",
              "      border: none;\n",
              "      border-radius: 50%;\n",
              "      cursor: pointer;\n",
              "      display: none;\n",
              "      fill: #1967D2;\n",
              "      height: 32px;\n",
              "      padding: 0 0 0 0;\n",
              "      width: 32px;\n",
              "    }\n",
              "\n",
              "    .colab-df-convert:hover {\n",
              "      background-color: #E2EBFA;\n",
              "      box-shadow: 0px 1px 2px rgba(60, 64, 67, 0.3), 0px 1px 3px 1px rgba(60, 64, 67, 0.15);\n",
              "      fill: #174EA6;\n",
              "    }\n",
              "\n",
              "    [theme=dark] .colab-df-convert {\n",
              "      background-color: #3B4455;\n",
              "      fill: #D2E3FC;\n",
              "    }\n",
              "\n",
              "    [theme=dark] .colab-df-convert:hover {\n",
              "      background-color: #434B5C;\n",
              "      box-shadow: 0px 1px 3px 1px rgba(0, 0, 0, 0.15);\n",
              "      filter: drop-shadow(0px 1px 2px rgba(0, 0, 0, 0.3));\n",
              "      fill: #FFFFFF;\n",
              "    }\n",
              "  </style>\n",
              "\n",
              "      <script>\n",
              "        const buttonEl =\n",
              "          document.querySelector('#df-05c9dd5f-4173-4ac8-8eeb-f6f590253936 button.colab-df-convert');\n",
              "        buttonEl.style.display =\n",
              "          google.colab.kernel.accessAllowed ? 'block' : 'none';\n",
              "\n",
              "        async function convertToInteractive(key) {\n",
              "          const element = document.querySelector('#df-05c9dd5f-4173-4ac8-8eeb-f6f590253936');\n",
              "          const dataTable =\n",
              "            await google.colab.kernel.invokeFunction('convertToInteractive',\n",
              "                                                     [key], {});\n",
              "          if (!dataTable) return;\n",
              "\n",
              "          const docLinkHtml = 'Like what you see? Visit the ' +\n",
              "            '<a target=\"_blank\" href=https://colab.research.google.com/notebooks/data_table.ipynb>data table notebook</a>'\n",
              "            + ' to learn more about interactive tables.';\n",
              "          element.innerHTML = '';\n",
              "          dataTable['output_type'] = 'display_data';\n",
              "          await google.colab.output.renderOutput(dataTable, element);\n",
              "          const docLink = document.createElement('div');\n",
              "          docLink.innerHTML = docLinkHtml;\n",
              "          element.appendChild(docLink);\n",
              "        }\n",
              "      </script>\n",
              "    </div>\n",
              "  </div>\n",
              "  "
            ]
          },
          "metadata": {},
          "execution_count": 5
        }
      ]
    },
    {
      "cell_type": "code",
      "source": [
        "from sklearn.linear_model import LinearRegression\n",
        "from sklearn.model_selection import train_test_split\n",
        "from sklearn.metrics import r2_score,mean_squared_error\n",
        "import statsmodels.formula.api as smf"
      ],
      "metadata": {
        "id": "KzPtLEvJXGNh"
      },
      "execution_count": null,
      "outputs": []
    },
    {
      "cell_type": "code",
      "source": [
        "X=df.drop(['Tavg','Tanggal','ddd_car'],axis=1)\n",
        "y=df['Tavg']\n",
        "\n",
        "X_train,X_test,y_train,y_test=train_test_split(X,y,test_size=0.3)\n"
      ],
      "metadata": {
        "id": "pNvFj6bl4QLM"
      },
      "execution_count": null,
      "outputs": []
    },
    {
      "cell_type": "code",
      "source": [
        "model=LinearRegression()\n",
        "model=model.fit(X_train,y_train)\n",
        "print(model.coef_)\n",
        "print(model.intercept_)"
      ],
      "metadata": {
        "colab": {
          "base_uri": "https://localhost:8080/"
        },
        "id": "PYiyxvmB6aqs",
        "outputId": "d15902f6-8e7a-473b-eb64-09f3671440c4"
      },
      "execution_count": null,
      "outputs": [
        {
          "output_type": "stream",
          "name": "stdout",
          "text": [
            "[-3.48017150e-02 -3.48657122e-05 -4.91393212e-03 -5.93178841e-02\n",
            "  8.15214254e-05  1.38599936e-01  3.96338528e-01  3.29104629e-01\n",
            " -1.56210506e-03 -8.70607743e-03  2.36175524e-01 -1.28153346e-01\n",
            " -3.24617585e-02 -1.51982447e-01  3.80863887e-04]\n",
            "10.586539142025384\n"
          ]
        }
      ]
    },
    {
      "cell_type": "code",
      "source": [
        "prediksi=model.predict(X_test)\n",
        "mean_squared_error(y_test,prediksi)"
      ],
      "metadata": {
        "colab": {
          "base_uri": "https://localhost:8080/"
        },
        "id": "kMArbOhE-_3u",
        "outputId": "e8802ebf-b9e1-40ad-d336-8764226fc4b0"
      },
      "execution_count": null,
      "outputs": [
        {
          "output_type": "execute_result",
          "data": {
            "text/plain": [
              "0.29938661194536603"
            ]
          },
          "metadata": {},
          "execution_count": 9
        }
      ]
    },
    {
      "cell_type": "code",
      "source": [
        "df.columns"
      ],
      "metadata": {
        "colab": {
          "base_uri": "https://localhost:8080/"
        },
        "id": "AcwlnBtu4K-F",
        "outputId": "3ececc90-7a89-4d2c-c00d-42d6d4683b80"
      },
      "execution_count": null,
      "outputs": [
        {
          "output_type": "execute_result",
          "data": {
            "text/plain": [
              "Index(['Tanggal', 'Tavg', 'RH_avg', 'RR', 'ss', 'ff_x', 'ddd_x', 'ff_avg',\n",
              "       'ddd_car', 'Tn', 'Tx', 'd_C ', 'd_E ', 'd_N ', 'd_NE', 'd_NW', 'd_SE',\n",
              "       'd_W '],\n",
              "      dtype='object')"
            ]
          },
          "metadata": {},
          "execution_count": 10
        }
      ]
    },
    {
      "cell_type": "code",
      "source": [
        "X_train.dtypes"
      ],
      "metadata": {
        "colab": {
          "base_uri": "https://localhost:8080/"
        },
        "id": "b9MhrZeK8AAZ",
        "outputId": "1acd5766-f718-4004-c7be-082d2e2bb2c7"
      },
      "execution_count": null,
      "outputs": [
        {
          "output_type": "execute_result",
          "data": {
            "text/plain": [
              "RH_avg    float64\n",
              "RR        float64\n",
              "ss        float64\n",
              "ff_x      float64\n",
              "ddd_x     float64\n",
              "ff_avg    float64\n",
              "Tn        float64\n",
              "Tx        float64\n",
              "d_C         uint8\n",
              "d_E         uint8\n",
              "d_N         uint8\n",
              "d_NE        uint8\n",
              "d_NW        uint8\n",
              "d_SE        uint8\n",
              "d_W         uint8\n",
              "dtype: object"
            ]
          },
          "metadata": {},
          "execution_count": 11
        }
      ]
    },
    {
      "cell_type": "code",
      "source": [
        "model1=smf.ols(formula='Tavg~RH_avg+RR+ss+ff_x+ddd_x+ff_avg+ddd_car+Tn+Tx',data=df).fit()\n",
        "model1.conf_int()\n",
        "model1.summary()"
      ],
      "metadata": {
        "colab": {
          "base_uri": "https://localhost:8080/",
          "height": 734
        },
        "id": "tk_tNpC9C5qv",
        "outputId": "4c07ef49-7f2d-454d-8a8c-f9d86a263422"
      },
      "execution_count": null,
      "outputs": [
        {
          "output_type": "execute_result",
          "data": {
            "text/plain": [
              "<class 'statsmodels.iolib.summary.Summary'>\n",
              "\"\"\"\n",
              "                            OLS Regression Results                            \n",
              "==============================================================================\n",
              "Dep. Variable:                   Tavg   R-squared:                       0.716\n",
              "Model:                            OLS   Adj. R-squared:                  0.713\n",
              "Method:                 Least Squares   F-statistic:                     192.2\n",
              "Date:                Sun, 11 Sep 2022   Prob (F-statistic):          1.07e-279\n",
              "Time:                        14:40:01   Log-Likelihood:                -925.98\n",
              "No. Observations:                1081   AIC:                             1882.\n",
              "Df Residuals:                    1066   BIC:                             1957.\n",
              "Df Model:                          14                                         \n",
              "Covariance Type:            nonrobust                                         \n",
              "=================================================================================\n",
              "                    coef    std err          t      P>|t|      [0.025      0.975]\n",
              "---------------------------------------------------------------------------------\n",
              "Intercept         9.9455      0.744     13.371      0.000       8.486      11.405\n",
              "ddd_car[T.E ]    -0.0314      0.064     -0.493      0.622      -0.156       0.094\n",
              "ddd_car[T.N ]     0.1949      0.097      2.008      0.045       0.004       0.385\n",
              "ddd_car[T.NE]    -0.2786      0.238     -1.170      0.242      -0.746       0.188\n",
              "ddd_car[T.NW]     0.0262      0.143      0.183      0.855      -0.255       0.308\n",
              "ddd_car[T.SE]     0.0882      0.130      0.681      0.496      -0.166       0.342\n",
              "ddd_car[T.W ]     0.0183      0.078      0.234      0.815      -0.135       0.171\n",
              "RH_avg           -0.0326      0.004     -8.597      0.000      -0.040      -0.025\n",
              "RR             -2.83e-05   2.18e-05     -1.301      0.194    -7.1e-05    1.44e-05\n",
              "ss               -0.0024      0.008     -0.315      0.753      -0.017       0.012\n",
              "ff_x             -0.0589      0.015     -3.946      0.000      -0.088      -0.030\n",
              "ddd_x             0.0003      0.000      1.500      0.134   -8.18e-05       0.001\n",
              "ff_avg            0.1336      0.035      3.779      0.000       0.064       0.203\n",
              "Tn                0.3987      0.015     26.699      0.000       0.369       0.428\n",
              "Tx                0.3398      0.016     20.779      0.000       0.308       0.372\n",
              "==============================================================================\n",
              "Omnibus:                       22.977   Durbin-Watson:                   1.428\n",
              "Prob(Omnibus):                  0.000   Jarque-Bera (JB):               40.403\n",
              "Skew:                           0.133   Prob(JB):                     1.68e-09\n",
              "Kurtosis:                       3.909   Cond. No.                     3.46e+04\n",
              "==============================================================================\n",
              "\n",
              "Notes:\n",
              "[1] Standard Errors assume that the covariance matrix of the errors is correctly specified.\n",
              "[2] The condition number is large, 3.46e+04. This might indicate that there are\n",
              "strong multicollinearity or other numerical problems.\n",
              "\"\"\""
            ],
            "text/html": [
              "<table class=\"simpletable\">\n",
              "<caption>OLS Regression Results</caption>\n",
              "<tr>\n",
              "  <th>Dep. Variable:</th>          <td>Tavg</td>       <th>  R-squared:         </th> <td>   0.716</td> \n",
              "</tr>\n",
              "<tr>\n",
              "  <th>Model:</th>                   <td>OLS</td>       <th>  Adj. R-squared:    </th> <td>   0.713</td> \n",
              "</tr>\n",
              "<tr>\n",
              "  <th>Method:</th>             <td>Least Squares</td>  <th>  F-statistic:       </th> <td>   192.2</td> \n",
              "</tr>\n",
              "<tr>\n",
              "  <th>Date:</th>             <td>Sun, 11 Sep 2022</td> <th>  Prob (F-statistic):</th> <td>1.07e-279</td>\n",
              "</tr>\n",
              "<tr>\n",
              "  <th>Time:</th>                 <td>14:40:01</td>     <th>  Log-Likelihood:    </th> <td> -925.98</td> \n",
              "</tr>\n",
              "<tr>\n",
              "  <th>No. Observations:</th>      <td>  1081</td>      <th>  AIC:               </th> <td>   1882.</td> \n",
              "</tr>\n",
              "<tr>\n",
              "  <th>Df Residuals:</th>          <td>  1066</td>      <th>  BIC:               </th> <td>   1957.</td> \n",
              "</tr>\n",
              "<tr>\n",
              "  <th>Df Model:</th>              <td>    14</td>      <th>                     </th>     <td> </td>    \n",
              "</tr>\n",
              "<tr>\n",
              "  <th>Covariance Type:</th>      <td>nonrobust</td>    <th>                     </th>     <td> </td>    \n",
              "</tr>\n",
              "</table>\n",
              "<table class=\"simpletable\">\n",
              "<tr>\n",
              "        <td></td>           <th>coef</th>     <th>std err</th>      <th>t</th>      <th>P>|t|</th>  <th>[0.025</th>    <th>0.975]</th>  \n",
              "</tr>\n",
              "<tr>\n",
              "  <th>Intercept</th>     <td>    9.9455</td> <td>    0.744</td> <td>   13.371</td> <td> 0.000</td> <td>    8.486</td> <td>   11.405</td>\n",
              "</tr>\n",
              "<tr>\n",
              "  <th>ddd_car[T.E ]</th> <td>   -0.0314</td> <td>    0.064</td> <td>   -0.493</td> <td> 0.622</td> <td>   -0.156</td> <td>    0.094</td>\n",
              "</tr>\n",
              "<tr>\n",
              "  <th>ddd_car[T.N ]</th> <td>    0.1949</td> <td>    0.097</td> <td>    2.008</td> <td> 0.045</td> <td>    0.004</td> <td>    0.385</td>\n",
              "</tr>\n",
              "<tr>\n",
              "  <th>ddd_car[T.NE]</th> <td>   -0.2786</td> <td>    0.238</td> <td>   -1.170</td> <td> 0.242</td> <td>   -0.746</td> <td>    0.188</td>\n",
              "</tr>\n",
              "<tr>\n",
              "  <th>ddd_car[T.NW]</th> <td>    0.0262</td> <td>    0.143</td> <td>    0.183</td> <td> 0.855</td> <td>   -0.255</td> <td>    0.308</td>\n",
              "</tr>\n",
              "<tr>\n",
              "  <th>ddd_car[T.SE]</th> <td>    0.0882</td> <td>    0.130</td> <td>    0.681</td> <td> 0.496</td> <td>   -0.166</td> <td>    0.342</td>\n",
              "</tr>\n",
              "<tr>\n",
              "  <th>ddd_car[T.W ]</th> <td>    0.0183</td> <td>    0.078</td> <td>    0.234</td> <td> 0.815</td> <td>   -0.135</td> <td>    0.171</td>\n",
              "</tr>\n",
              "<tr>\n",
              "  <th>RH_avg</th>        <td>   -0.0326</td> <td>    0.004</td> <td>   -8.597</td> <td> 0.000</td> <td>   -0.040</td> <td>   -0.025</td>\n",
              "</tr>\n",
              "<tr>\n",
              "  <th>RR</th>            <td> -2.83e-05</td> <td> 2.18e-05</td> <td>   -1.301</td> <td> 0.194</td> <td> -7.1e-05</td> <td> 1.44e-05</td>\n",
              "</tr>\n",
              "<tr>\n",
              "  <th>ss</th>            <td>   -0.0024</td> <td>    0.008</td> <td>   -0.315</td> <td> 0.753</td> <td>   -0.017</td> <td>    0.012</td>\n",
              "</tr>\n",
              "<tr>\n",
              "  <th>ff_x</th>          <td>   -0.0589</td> <td>    0.015</td> <td>   -3.946</td> <td> 0.000</td> <td>   -0.088</td> <td>   -0.030</td>\n",
              "</tr>\n",
              "<tr>\n",
              "  <th>ddd_x</th>         <td>    0.0003</td> <td>    0.000</td> <td>    1.500</td> <td> 0.134</td> <td>-8.18e-05</td> <td>    0.001</td>\n",
              "</tr>\n",
              "<tr>\n",
              "  <th>ff_avg</th>        <td>    0.1336</td> <td>    0.035</td> <td>    3.779</td> <td> 0.000</td> <td>    0.064</td> <td>    0.203</td>\n",
              "</tr>\n",
              "<tr>\n",
              "  <th>Tn</th>            <td>    0.3987</td> <td>    0.015</td> <td>   26.699</td> <td> 0.000</td> <td>    0.369</td> <td>    0.428</td>\n",
              "</tr>\n",
              "<tr>\n",
              "  <th>Tx</th>            <td>    0.3398</td> <td>    0.016</td> <td>   20.779</td> <td> 0.000</td> <td>    0.308</td> <td>    0.372</td>\n",
              "</tr>\n",
              "</table>\n",
              "<table class=\"simpletable\">\n",
              "<tr>\n",
              "  <th>Omnibus:</th>       <td>22.977</td> <th>  Durbin-Watson:     </th> <td>   1.428</td>\n",
              "</tr>\n",
              "<tr>\n",
              "  <th>Prob(Omnibus):</th> <td> 0.000</td> <th>  Jarque-Bera (JB):  </th> <td>  40.403</td>\n",
              "</tr>\n",
              "<tr>\n",
              "  <th>Skew:</th>          <td> 0.133</td> <th>  Prob(JB):          </th> <td>1.68e-09</td>\n",
              "</tr>\n",
              "<tr>\n",
              "  <th>Kurtosis:</th>      <td> 3.909</td> <th>  Cond. No.          </th> <td>3.46e+04</td>\n",
              "</tr>\n",
              "</table><br/><br/>Notes:<br/>[1] Standard Errors assume that the covariance matrix of the errors is correctly specified.<br/>[2] The condition number is large, 3.46e+04. This might indicate that there are<br/>strong multicollinearity or other numerical problems."
            ]
          },
          "metadata": {},
          "execution_count": 12
        }
      ]
    },
    {
      "cell_type": "code",
      "source": [
        "columns=['RH_avg','ff_x','ff_avg','Tn','Tx']\n",
        "X=df[columns]\n",
        "y=df['Tavg']\n",
        "\n",
        "X_train,X_test,y_train,y_test=train_test_split(X,y,test_size=0.3)\n"
      ],
      "metadata": {
        "id": "IzLpYxUyW91d"
      },
      "execution_count": null,
      "outputs": []
    },
    {
      "cell_type": "code",
      "source": [
        "model2=LinearRegression()\n",
        "model2=model2.fit(X_train,y_train)\n",
        "print(model.coef_)\n",
        "print(model.intercept_)"
      ],
      "metadata": {
        "colab": {
          "base_uri": "https://localhost:8080/"
        },
        "outputId": "fdfc77f9-c3dd-4fd4-94ea-99f9bb8fa009",
        "id": "oUriKEucW91s"
      },
      "execution_count": null,
      "outputs": [
        {
          "output_type": "stream",
          "name": "stdout",
          "text": [
            "[-3.48017150e-02 -3.48657122e-05 -4.91393212e-03 -5.93178841e-02\n",
            "  8.15214254e-05  1.38599936e-01  3.96338528e-01  3.29104629e-01\n",
            " -1.56210506e-03 -8.70607743e-03  2.36175524e-01 -1.28153346e-01\n",
            " -3.24617585e-02 -1.51982447e-01  3.80863887e-04]\n",
            "10.586539142025384\n"
          ]
        }
      ]
    },
    {
      "cell_type": "code",
      "source": [
        "prediksi=model2.predict(X_test)\n",
        "mean_squared_error(y_test,prediksi)"
      ],
      "metadata": {
        "colab": {
          "base_uri": "https://localhost:8080/"
        },
        "outputId": "e15dc1cc-cca4-454c-f53d-5b1f853e16ff",
        "id": "8JlRqlDrW91t"
      },
      "execution_count": null,
      "outputs": [
        {
          "output_type": "execute_result",
          "data": {
            "text/plain": [
              "0.3548726220785847"
            ]
          },
          "metadata": {},
          "execution_count": 20
        }
      ]
    },
    {
      "cell_type": "code",
      "source": [],
      "metadata": {
        "id": "sSbr_zBu_mpL"
      },
      "execution_count": null,
      "outputs": []
    }
  ]
}